{
 "cells": [
  {
   "cell_type": "code",
   "execution_count": 8,
   "metadata": {},
   "outputs": [],
   "source": [
    "import pandas as pd\n",
    "import os \n",
    "import matplotlib.pyplot as plt\n",
    "import seaborn as sns\n",
    "import numpy as np\n",
    "\n",
    "%matplotlib inline"
   ]
  },
  {
   "cell_type": "code",
   "execution_count": 3,
   "metadata": {},
   "outputs": [],
   "source": [
    "def loadData(path):\n",
    "    df = pd.DataFrame()\n",
    "    accFrame = pd.DataFrame()\n",
    "    bestiteration = []\n",
    "    for foldername in os.listdir(path):\n",
    "            #Load main frame with hyperarams\n",
    "            mainFrame = pd.read_csv(fr\"{path}\\{foldername}\\hyperparameters.txt\", delimiter=\":\", header=None,names=[0,foldername],dtype={f'{foldername}':np.float64})\n",
    "            mainFrame.drop(columns=0,inplace=True)\n",
    "            \n",
    "            #Retrieve number of best epoch\n",
    "            bestEpoch = pd.read_csv(fr\"{path}\\{foldername}\\epoch.txt\", header=None)\n",
    "            bestEpoch = bestEpoch.values[0][0]\n",
    "            mainFrame.loc['BestEpoch']=int(bestEpoch+1)\n",
    "\n",
    "            #Retrieve acc for best epoch\n",
    "            test_Accuracy = pd.read_csv(fr\"{path}\\{foldername}\\Test_Accuracy_normal.csv\", header=None)\n",
    "            mainFrame.loc['Eval acc']= test_Accuracy.values[int(bestEpoch)][0]\n",
    "            \n",
    "            test_loss = pd.read_csv(fr\"{path}\\{foldername}\\test_Loss.csv\", header=None)\n",
    "            mainFrame.loc['Eval loss']= test_loss.values[int(bestEpoch)][0]\n",
    "\n",
    "            train_Accuracy = pd.read_csv(fr\"{path}\\{foldername}\\Train_Accuracy_normal.csv\", header=None)\n",
    "            mainFrame.loc['Train acc']= train_Accuracy.values[int(bestEpoch)][0]\n",
    "            \n",
    "            train_loss = pd.read_csv(fr\"{path}\\{foldername}\\train_Loss.csv\", header=None)\n",
    "            mainFrame.loc['Train loss']= train_loss.values[int(bestEpoch)][0]\n",
    "\n",
    "            \n",
    "            #test_acc,total_time,tn,fp,fn,tp\n",
    "            RealTest = pd.read_csv(fr\"{path}\\{foldername}\\RealTest.csv\", header=None)\n",
    "            RealTestAcc =  RealTest.values[0][0]\n",
    "            RealTestTime = RealTest.values[1][0]\n",
    "            tn,fp,fn,tp = RealTest.values[2][0],RealTest.values[3][0],RealTest.values[4][0],RealTest.values[5][0]\n",
    "            mainFrame.loc['Test Acc']= RealTestAcc\n",
    "            mainFrame.loc['Test Time']= RealTestTime\n",
    "            mainFrame.loc['TN']= tn\n",
    "            mainFrame.loc['FP']= fp\n",
    "            mainFrame.loc['FN']= fn\n",
    "            mainFrame.loc['TP']= tp\n",
    "            \n",
    "            bestiteration.append([test_Accuracy.values[int(bestEpoch)][0]])\n",
    "            #Accuracy Frame\n",
    "            test_Accuracy = train_Accuracy.transpose()\n",
    "            accFrame = accFrame.append(test_Accuracy, ignore_index=True)\n",
    "            df = pd.concat([df,mainFrame],axis=1)\n",
    "            \n",
    "            #print(f\"{foldername} Best epoch: {bestEpoch} Best epoch from max: {test_Accuracy.idxmax().values[0]} acc: {test_Accuracy.values[int(bestEpoch)][0]}\")\n",
    "            \n",
    "            \n",
    "            \n",
    "    df.dropna(inplace=True)\n",
    "    df.rename(index={0:'dropout_rate',1:'train_batchsize',2:'test_batchsize',3:'k',4:'Learning rate',5:'Momentum',6:'Weight_Decay'},inplace=True)\n",
    "    df = df.transpose()\n",
    "    return df, accFrame\n"
   ]
  },
  {
   "cell_type": "code",
   "execution_count": 4,
   "metadata": {},
   "outputs": [],
   "source": [
    "def plotValues(data,value1,value2,xlabel,ylabel):\n",
    "    value1Data = data[value1].values\n",
    "    value2Data = data[value2].values\n",
    "    plt.scatter(value1Data,value2Data)\n",
    "    plt.xlabel(xlabel)\n",
    "    plt.ylabel(ylabel)\n",
    "    plt.show()\n",
    "\n",
    "def makeFigure(foldername,path):\n",
    "\n",
    "    Train_Accuracy_normal = pd.read_csv(fr\"{path}\\{foldername}\\Test_Accuracy_normal.csv\", header=None)\n",
    "    Test_Accuracy_normal = pd.read_csv(fr\"{path}\\{foldername}\\Train_Accuracy_normal.csv\", header=None)\n",
    "    plt.xlabel('Epochs')\n",
    "    plt.ylabel('Accuracy')\n",
    "    plt.plot(Train_Accuracy_normal, label='Train')\n",
    "    plt.plot(Test_Accuracy_normal, label='Test')\n",
    "    plt.legend()\n",
    "    plt.show()\n",
    "    return\n",
    "\n",
    "def pairplot(data):\n",
    "    data = data.sort_values(\"Test Acc\")\n",
    "    data1 = data.drop([\"TN\",\"FP\",\"FN\",\"TP\",\"train_batchsize\",\"test_batchsize\",\"BestEpoch\",\"Eval acc\",\"Train acc\",\"Train loss\", \"Eval loss\"], axis=1)\n",
    "    sns.pairplot(data1)\n",
    "    plt.show()\n",
    "    return\n",
    "\n",
    "def checkAmountOfEpochs():\n",
    "    i = 0\n",
    "    for foldername in os.listdir(path1):\n",
    "        test_Accuracy = pd.read_csv(fr\"{path1}\\{foldername}\\Test_Accuracy_normal.csv\", header=None)\n",
    "        epochs = test_Accuracy.shape\n",
    "        i=i+1\n",
    "        print(foldername,epochs)\n",
    "    print(i)\n",
    "    return"
   ]
  },
  {
   "cell_type": "code",
   "execution_count": 10,
   "metadata": {
    "scrolled": true
   },
   "outputs": [],
   "source": [
    "data, dataAcc = loadData(r\"D:\\Aalborg Universitet\\VGIS8 - Dokumenter\\Project\\Hyperparameters iterations\\Moaaz\")\n",
    "data.to_csv(r'C:\\Users\\Lynge\\Documents\\Projects\\SemesterProject\\SemesterProject_843\\Evaluation\\graph.txt')\n",
    "\n",
    "confusion = data[[\"Test Acc\",\"TN\",\"FP\",\"FN\",\"TP\"]]\n",
    "confusion = confusion.sort_values(\"Test Acc\",ascending=False)\n",
    "\n",
    "\n",
    "modeldata = data[[\"Train acc\",\"Eval acc\",\"Test Acc\",\"TN\",\"FP\",\"FN\",\"TP\",\"k\",\"Learning rate\",\"dropout_rate\",'Momentum','Weight_Decay']]\n",
    "modeldata = modeldata.sort_values(\"Test Acc\",ascending=False)"
   ]
  },
  {
   "cell_type": "code",
   "execution_count": null,
   "metadata": {},
   "outputs": [],
   "source": [
    "dataAcc = dataAcc.transpose()\n",
    "xaxis = np.linspace(1,50,num=50)\n",
    "fig = plt.figure()\n",
    "plt.plot(xaxis,dataAcc)"
   ]
  }
 ],
 "metadata": {
  "kernelspec": {
   "display_name": "Python 3",
   "language": "python",
   "name": "python3"
  },
  "language_info": {
   "codemirror_mode": {
    "name": "ipython",
    "version": 3
   },
   "file_extension": ".py",
   "mimetype": "text/x-python",
   "name": "python",
   "nbconvert_exporter": "python",
   "pygments_lexer": "ipython3",
   "version": "3.7.7"
  }
 },
 "nbformat": 4,
 "nbformat_minor": 4
}
