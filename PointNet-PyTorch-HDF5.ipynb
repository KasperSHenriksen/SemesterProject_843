{
 "cells": [
  {
   "cell_type": "code",
   "execution_count": 1,
   "metadata": {
    "_cell_guid": "b1076dfc-b9ad-4769-8c92-a6c4dae69d19",
    "_uuid": "8f2839f25d086af736a60e9eeb907d3b93b6e0e5"
   },
   "outputs": [
    {
     "ename": "ModuleNotFoundError",
     "evalue": "No module named 'h5py'",
     "output_type": "error",
     "traceback": [
      "\u001b[0;31m-----------------------------------------------------------\u001b[0m",
      "\u001b[0;31mModuleNotFoundError\u001b[0m       Traceback (most recent call last)",
      "\u001b[0;32m<ipython-input-1-0a4f492cbb0b>\u001b[0m in \u001b[0;36m<module>\u001b[0;34m\u001b[0m\n\u001b[0;32m----> 1\u001b[0;31m \u001b[0;32mimport\u001b[0m \u001b[0mh5py\u001b[0m\u001b[0;34m\u001b[0m\u001b[0;34m\u001b[0m\u001b[0m\n\u001b[0m\u001b[1;32m      2\u001b[0m \u001b[0;31m#from torchvision import datasets, transforms\u001b[0m\u001b[0;34m\u001b[0m\u001b[0;34m\u001b[0m\u001b[0;34m\u001b[0m\u001b[0m\n\u001b[1;32m      3\u001b[0m \u001b[0;32mimport\u001b[0m \u001b[0mtorch\u001b[0m\u001b[0;34m\u001b[0m\u001b[0;34m\u001b[0m\u001b[0m\n\u001b[1;32m      4\u001b[0m \u001b[0;32mfrom\u001b[0m \u001b[0mtqdm\u001b[0m\u001b[0;34m.\u001b[0m\u001b[0mauto\u001b[0m \u001b[0;32mimport\u001b[0m \u001b[0mtqdm\u001b[0m\u001b[0;34m\u001b[0m\u001b[0;34m\u001b[0m\u001b[0m\n\u001b[1;32m      5\u001b[0m \u001b[0;31m#import os\u001b[0m\u001b[0;34m\u001b[0m\u001b[0;34m\u001b[0m\u001b[0;34m\u001b[0m\u001b[0m\n",
      "\u001b[0;31mModuleNotFoundError\u001b[0m: No module named 'h5py'"
     ]
    }
   ],
   "source": [
    "import h5py\n",
    "#from torchvision import datasets, transforms\n",
    "import torch\n",
    "from tqdm.auto import tqdm\n",
    "#import os\n",
    "#import pandas as pd\n",
    "import numpy as np\n",
    "#import random\n",
    "import matplotlib.pyplot as plt\n",
    "from torch.utils.tensorboard import SummaryWriter"
   ]
  },
  {
   "cell_type": "markdown",
   "metadata": {},
   "source": [
    "# Select device which is available"
   ]
  },
  {
   "cell_type": "code",
   "execution_count": 4,
   "metadata": {
    "_cell_guid": "79c7e3d0-c299-4dcb-8224-4455121ee9b0",
    "_uuid": "d629ff2d2480ee46fbb7e2d37f6b5fab8052498a"
   },
   "outputs": [
    {
     "name": "stdout",
     "output_type": "stream",
     "text": [
      "Running on GPU\n"
     ]
    }
   ],
   "source": [
    "if torch.cuda.is_available():\n",
    "    device = torch.device(\"cuda:0\")\n",
    "    print(\"Running on GPU\")\n",
    "else:\n",
    "    device = torch.device(\"cpu\")\n",
    "    print(\"Running on CPU\")"
   ]
  },
  {
   "cell_type": "markdown",
   "metadata": {},
   "source": [
    "# PointNet Architecture"
   ]
  },
  {
   "cell_type": "code",
   "execution_count": 3,
   "metadata": {},
   "outputs": [],
   "source": [
    "import torch.nn as nn\n",
    "import torch.nn.functional as F"
   ]
  },
  {
   "cell_type": "code",
   "execution_count": 4,
   "metadata": {},
   "outputs": [],
   "source": [
    "class Tnet(nn.Module):\n",
    "    def __init__(self,k):\n",
    "        super().__init__()\n",
    "        self.k = k\n",
    "        \n",
    "        self.conv1 = nn.Conv1d(in_channels = k,out_channels = 64,kernel_size=1) #k instead of 3\n",
    "        self.conv2 = nn.Conv1d(in_channels = 64,out_channels = 128,kernel_size=1)\n",
    "        self.conv3 = nn.Conv1d(in_channels = 128,out_channels = 1024,kernel_size=1)\n",
    "        \n",
    "        self.bn1 = nn.BatchNorm1d(64)\n",
    "        self.bn2 = nn.BatchNorm1d(128)\n",
    "        self.bn3 = nn.BatchNorm1d(1024)\n",
    "        self.bn4 = nn.BatchNorm1d(512)\n",
    "        self.bn5 = nn.BatchNorm1d(256)\n",
    "        \n",
    "        self.fc1 = nn.Linear(1024,512)\n",
    "        self.fc2 = nn.Linear(512,256)\n",
    "        self.fc3 = nn.Linear(256,k*k)\n",
    "        \n",
    "    \n",
    "    def forward(self,x):\n",
    "        point_cloud_size = len(x)\n",
    "        x = F.relu(self.bn1(self.conv1(x)))\n",
    "        x = F.relu(self.bn2(self.conv2(x)))\n",
    "        x = F.relu(self.bn3(self.conv3(x)))\n",
    "        \n",
    "        x = torch.max(x,2,keepdim=True)[0]\n",
    "        x = x.view(-1,1024)\n",
    "\n",
    "        x = F.relu(self.bn4(self.fc1(x)))\n",
    "        x = F.relu(self.bn5(self.fc2(x)))\n",
    "        x = self.fc3(x)\n",
    "        \n",
    "        #if self.k == 3:\n",
    "        #    iden = torch.from_numpy(np.eye(self.k).flatten().astype(np.float32)).view(1,self.k*self.k).repeat(point_cloud_size,1).to(device)\n",
    "        #elif self.k == 64:\n",
    "        iden = torch.from_numpy(np.eye(self.k).flatten().astype(np.float32)).view(1,self.k*self.k).repeat(point_cloud_size,1).to(device)\n",
    "        \n",
    "        x = x + iden\n",
    "        x = x.view(-1, self.k, self.k)\n",
    "        return x\n",
    "        "
   ]
  },
  {
   "cell_type": "code",
   "execution_count": 5,
   "metadata": {},
   "outputs": [],
   "source": [
    "class InputTransform(nn.Module):\n",
    "    def __init__(self):\n",
    "        super().__init__()\n",
    "        \n",
    "        self.tnet = Tnet(3).to(device)\n",
    "        \n",
    "    def forward(self,x):\n",
    "        input_trans = self.tnet(x).to(device)\n",
    "        x = x.transpose(2,1) #??\n",
    "        x = torch.bmm(x,input_trans)\n",
    "        x = x.transpose(2,1) #??\n",
    "        return x"
   ]
  },
  {
   "cell_type": "code",
   "execution_count": 6,
   "metadata": {},
   "outputs": [],
   "source": [
    "class FeatureTransform(nn.Module):\n",
    "    def __init__(self):\n",
    "        super().__init__()\n",
    "        \n",
    "        self.tnet = Tnet(64)\n",
    "        \n",
    "    def forward(self,x):\n",
    "        feature_transform = self.tnet(x)\n",
    "        x = x.transpose(2,1) #??\n",
    "        x = torch.bmm(x,feature_transform)\n",
    "        x = x.transpose(2,1) #??\n",
    "        return x"
   ]
  },
  {
   "cell_type": "code",
   "execution_count": 7,
   "metadata": {},
   "outputs": [],
   "source": [
    "class Classification(nn.Module):\n",
    "    def __init__(self,k=2):\n",
    "        super().__init__()\n",
    "    \n",
    "        self.fc1 = nn.Linear(1024,512)\n",
    "        self.fc2 = nn.Linear(512,256)\n",
    "        self.fc3 = nn.Linear(256,k)\n",
    "        \n",
    "        self.bn1 = nn.BatchNorm1d(512)\n",
    "        self.bn2 = nn.BatchNorm1d(256)\n",
    "        self.dropout = nn.Dropout(p=0.7)\n",
    "    \n",
    "    def forward(self,x):\n",
    "        x = self.dropout(F.relu(self.bn1(self.fc1(x))))\n",
    "        x = self.dropout(F.relu(self.bn2(self.fc2(x))))\n",
    "        x = F.softmax(self.fc3(x),dim=1)\n",
    "        return x"
   ]
  },
  {
   "cell_type": "markdown",
   "metadata": {},
   "source": []
  },
  {
   "cell_type": "code",
   "execution_count": 8,
   "metadata": {},
   "outputs": [],
   "source": [
    "class PointNetCls(nn.Module):\n",
    "    def __init__(self):\n",
    "        super().__init__()\n",
    "        \n",
    "        self.input_transform = InputTransform()\n",
    "        self.feature_transform = FeatureTransform()\n",
    "        \n",
    "        self.conv1 = nn.Conv1d(3,64,1) #???? really value? Arcitecture says (64/64)\n",
    "        self.conv2 = nn.Conv1d(64,128,1)\n",
    "        self.conv3 = nn.Conv1d(128,1024,1) \n",
    "        \n",
    "        self.bn1 = nn.BatchNorm1d(64)\n",
    "        self.bn2 = nn.BatchNorm1d(128)\n",
    "        self.bn3 = nn.BatchNorm1d(1024)\n",
    "        \n",
    "        self.classification = Classification()\n",
    "        \n",
    "    def forward(self,x):\n",
    "        n_points = x.shape[0] #n x 3\n",
    "        \n",
    "        x = self.input_transform(x) #Input Transform\n",
    "        \n",
    "        x = F.relu(self.bn1(self.conv1(x))) #MLP Shared(64,64)             ???? really value? Arcitecture says (64/64)\n",
    "        \n",
    "        #n x 64\n",
    "        \n",
    "        x = self.feature_transform(x) #Feature Transform\n",
    "        \n",
    "        point_feature = x #n x 64 (Point Features for segmentation (Maybe use later))\n",
    "        \n",
    "        x = F.relu(self.bn2(self.conv2(x))) #MLP 64 --> 128\n",
    "        x = self.bn3(self.conv3(x)) #MLP 128 --> 1024\n",
    "        \n",
    "        x = torch.max(x, 2, keepdim=True)[0]\n",
    "            \n",
    "        x = x.view(-1,1024) #Global Feature (Missing Link to segment)\n",
    "        \n",
    "        x = self.classification(x) #MLP (512,256,k) + output scores // Classification\n",
    "        \n",
    "        return x"
   ]
  },
  {
   "cell_type": "code",
   "execution_count": 9,
   "metadata": {},
   "outputs": [],
   "source": [
    "def number_of_pointclouds(group,data_path):\n",
    "    with h5py.File(f'{data_path}/shuffled_pointcloud2_hdf5.h5','r') as hdf:\n",
    "        n_pointclouds = len(list(hdf.get(f'{group}/PointClouds')))\n",
    "        return n_pointclouds"
   ]
  },
  {
   "cell_type": "code",
   "execution_count": 10,
   "metadata": {},
   "outputs": [],
   "source": [
    "def get_batch(index,batch_size,data_path,category_set):\n",
    "    pointcloud_list = []\n",
    "    label_list = []\n",
    "    \n",
    "    with h5py.File(f'{data_path}/shuffled_pointcloud2_hdf5.h5','r') as hdf:\n",
    "\n",
    "        for pointcloud in list(hdf.get(f'{category_set}/PointClouds'))[index:index+batch_size]:\n",
    "            array = np.array(hdf.get(f'{category_set}/PointClouds/{pointcloud}'))\n",
    "            pointcloud_list.append(array)\n",
    "\n",
    "        for label in list(hdf.get(f'{category_set}/Labels'))[index:index+batch_size]:\n",
    "            array = np.array(hdf.get(f'{category_set}/Labels/{label}'))\n",
    "            label_list.append(array)\n",
    "     \n",
    "    pointcloud_tensors = torch.Tensor(pointcloud_list).view(-1,3,POINTCLOUD_SIZE).to(device)\n",
    "    label_tensors = torch.Tensor(label_list).to(device)\n",
    "\n",
    "    return pointcloud_tensors, label_tensors"
   ]
  },
  {
   "cell_type": "code",
   "execution_count": 11,
   "metadata": {},
   "outputs": [],
   "source": [
    "def get_validation_data(data_path):\n",
    "    pointcloud_list = []\n",
    "    label_list = []\n",
    "    \n",
    "    with h5py.File(f'{data_path}/shuffled_pointcloud2_hdf5.h5','r') as hdf:\n",
    "\n",
    "        for pointcloud in list(hdf.get('Validation/PointClouds')):\n",
    "            array = np.array(hdf.get(f'Validation/PointClouds/{pointcloud}'))\n",
    "            pointcloud_list.append(array)\n",
    "\n",
    "        for label in list(hdf.get('Validation/Labels')):\n",
    "            array = np.array(hdf.get(f'Validation/Labels/{label}'))\n",
    "            label_list.append(array)\n",
    "     \n",
    "    pointcloud_tensors = torch.Tensor(pointcloud_list).view(-1,3,POINTCLOUD_SIZE).to(device)\n",
    "    label_tensors = torch.Tensor(label_list).to(device)\n",
    "\n",
    "    return pointcloud_tensors, label_tensors"
   ]
  },
  {
   "cell_type": "markdown",
   "metadata": {},
   "source": [
    "# Fitting"
   ]
  },
  {
   "cell_type": "code",
   "execution_count": 12,
   "metadata": {},
   "outputs": [],
   "source": [
    "def train2(model,data,labels,loss_function,optimizer):\n",
    "    model.train()\n",
    "    \n",
    "    predictions = model(data)\n",
    "    loss = loss_function(predictions,labels)\n",
    "    \n",
    "    optimizer.zero_grad()\n",
    "    loss.backward()\n",
    "    optimizer.step()\n",
    "    return loss.item()"
   ]
  },
  {
   "cell_type": "code",
   "execution_count": 13,
   "metadata": {},
   "outputs": [],
   "source": [
    "def validate(model,data,labels,loss_function):\n",
    "    model.eval()\n",
    "    \n",
    "    predictions = model(data)\n",
    "    loss = loss_function(predictions,labels)\n",
    "    \n",
    "    return loss.item()"
   ]
  },
  {
   "cell_type": "code",
   "execution_count": 16,
   "metadata": {},
   "outputs": [
    {
     "name": "stdout",
     "output_type": "stream",
     "text": [
      "Epoch: 0\n"
     ]
    },
    {
     "data": {
      "application/vnd.jupyter.widget-view+json": {
       "model_id": "c8d8aa28df8b492c86049c5f0bc4e784",
       "version_major": 2,
       "version_minor": 0
      },
      "text/plain": [
       "HBox(children=(FloatProgress(value=0.0, max=32.0), HTML(value='')))"
      ]
     },
     "metadata": {},
     "output_type": "display_data"
    },
    {
     "name": "stdout",
     "output_type": "stream",
     "text": [
      "\n",
      "Epoch: 1\n"
     ]
    },
    {
     "data": {
      "application/vnd.jupyter.widget-view+json": {
       "model_id": "29039a7d95eb4374bac313f7d8774aba",
       "version_major": 2,
       "version_minor": 0
      },
      "text/plain": [
       "HBox(children=(FloatProgress(value=0.0, max=32.0), HTML(value='')))"
      ]
     },
     "metadata": {},
     "output_type": "display_data"
    },
    {
     "name": "stdout",
     "output_type": "stream",
     "text": [
      "\n",
      "Epoch: 2\n"
     ]
    },
    {
     "data": {
      "application/vnd.jupyter.widget-view+json": {
       "model_id": "438e2267cfb5486bb73d63e08d2d93e4",
       "version_major": 2,
       "version_minor": 0
      },
      "text/plain": [
       "HBox(children=(FloatProgress(value=0.0, max=32.0), HTML(value='')))"
      ]
     },
     "metadata": {},
     "output_type": "display_data"
    },
    {
     "name": "stdout",
     "output_type": "stream",
     "text": [
      "\n",
      "Epoch: 3\n"
     ]
    },
    {
     "data": {
      "application/vnd.jupyter.widget-view+json": {
       "model_id": "a3d65b603fd74862afc6fdfbe672b458",
       "version_major": 2,
       "version_minor": 0
      },
      "text/plain": [
       "HBox(children=(FloatProgress(value=0.0, max=32.0), HTML(value='')))"
      ]
     },
     "metadata": {},
     "output_type": "display_data"
    },
    {
     "name": "stdout",
     "output_type": "stream",
     "text": [
      "\n",
      "Epoch: 4\n"
     ]
    },
    {
     "data": {
      "application/vnd.jupyter.widget-view+json": {
       "model_id": "0e6c06db22524f07a18955241824a083",
       "version_major": 2,
       "version_minor": 0
      },
      "text/plain": [
       "HBox(children=(FloatProgress(value=0.0, max=32.0), HTML(value='')))"
      ]
     },
     "metadata": {},
     "output_type": "display_data"
    },
    {
     "name": "stdout",
     "output_type": "stream",
     "text": [
      "\n",
      "Epoch: 5\n"
     ]
    },
    {
     "data": {
      "application/vnd.jupyter.widget-view+json": {
       "model_id": "b0d147694ee146ed901ff6df57c5d852",
       "version_major": 2,
       "version_minor": 0
      },
      "text/plain": [
       "HBox(children=(FloatProgress(value=0.0, max=32.0), HTML(value='')))"
      ]
     },
     "metadata": {},
     "output_type": "display_data"
    },
    {
     "name": "stdout",
     "output_type": "stream",
     "text": [
      "\n",
      "Epoch: 6\n"
     ]
    },
    {
     "data": {
      "application/vnd.jupyter.widget-view+json": {
       "model_id": "278f092ed8f140bbb1e926b0ac86dd63",
       "version_major": 2,
       "version_minor": 0
      },
      "text/plain": [
       "HBox(children=(FloatProgress(value=0.0, max=32.0), HTML(value='')))"
      ]
     },
     "metadata": {},
     "output_type": "display_data"
    },
    {
     "name": "stdout",
     "output_type": "stream",
     "text": [
      "\n",
      "Epoch: 7\n"
     ]
    },
    {
     "data": {
      "application/vnd.jupyter.widget-view+json": {
       "model_id": "12b6ed07eb75438bb1786cc437fa3b02",
       "version_major": 2,
       "version_minor": 0
      },
      "text/plain": [
       "HBox(children=(FloatProgress(value=0.0, max=32.0), HTML(value='')))"
      ]
     },
     "metadata": {},
     "output_type": "display_data"
    },
    {
     "name": "stdout",
     "output_type": "stream",
     "text": [
      "\n",
      "Epoch: 8\n"
     ]
    },
    {
     "data": {
      "application/vnd.jupyter.widget-view+json": {
       "model_id": "558a6234909b4b7f940ea9f110a1c972",
       "version_major": 2,
       "version_minor": 0
      },
      "text/plain": [
       "HBox(children=(FloatProgress(value=0.0, max=32.0), HTML(value='')))"
      ]
     },
     "metadata": {},
     "output_type": "display_data"
    },
    {
     "name": "stdout",
     "output_type": "stream",
     "text": [
      "\n",
      "Epoch: 9\n"
     ]
    },
    {
     "data": {
      "application/vnd.jupyter.widget-view+json": {
       "model_id": "b71ec6cfb2e14050a24809b43a2b8a1c",
       "version_major": 2,
       "version_minor": 0
      },
      "text/plain": [
       "HBox(children=(FloatProgress(value=0.0, max=32.0), HTML(value='')))"
      ]
     },
     "metadata": {},
     "output_type": "display_data"
    },
    {
     "name": "stdout",
     "output_type": "stream",
     "text": [
      "\n",
      "Epoch: 10\n"
     ]
    },
    {
     "data": {
      "application/vnd.jupyter.widget-view+json": {
       "model_id": "d9e3a44ba2ae45189fc3b53a38985c0c",
       "version_major": 2,
       "version_minor": 0
      },
      "text/plain": [
       "HBox(children=(FloatProgress(value=0.0, max=32.0), HTML(value='')))"
      ]
     },
     "metadata": {},
     "output_type": "display_data"
    },
    {
     "name": "stdout",
     "output_type": "stream",
     "text": [
      "\n",
      "Epoch: 11\n"
     ]
    },
    {
     "data": {
      "application/vnd.jupyter.widget-view+json": {
       "model_id": "d6366976b1644463b10f59b1020bdcd1",
       "version_major": 2,
       "version_minor": 0
      },
      "text/plain": [
       "HBox(children=(FloatProgress(value=0.0, max=32.0), HTML(value='')))"
      ]
     },
     "metadata": {},
     "output_type": "display_data"
    },
    {
     "name": "stdout",
     "output_type": "stream",
     "text": [
      "\n",
      "Epoch: 12\n"
     ]
    },
    {
     "data": {
      "application/vnd.jupyter.widget-view+json": {
       "model_id": "9b38c5c6299a4accb40e70433ae131f6",
       "version_major": 2,
       "version_minor": 0
      },
      "text/plain": [
       "HBox(children=(FloatProgress(value=0.0, max=32.0), HTML(value='')))"
      ]
     },
     "metadata": {},
     "output_type": "display_data"
    },
    {
     "name": "stdout",
     "output_type": "stream",
     "text": [
      "\n",
      "Epoch: 13\n"
     ]
    },
    {
     "data": {
      "application/vnd.jupyter.widget-view+json": {
       "model_id": "bc56c5d90dc349159b1522bc6017b2ca",
       "version_major": 2,
       "version_minor": 0
      },
      "text/plain": [
       "HBox(children=(FloatProgress(value=0.0, max=32.0), HTML(value='')))"
      ]
     },
     "metadata": {},
     "output_type": "display_data"
    },
    {
     "name": "stdout",
     "output_type": "stream",
     "text": [
      "\n",
      "Epoch: 14\n"
     ]
    },
    {
     "data": {
      "application/vnd.jupyter.widget-view+json": {
       "model_id": "60ffb3fce68741df968b744fd16e55d0",
       "version_major": 2,
       "version_minor": 0
      },
      "text/plain": [
       "HBox(children=(FloatProgress(value=0.0, max=32.0), HTML(value='')))"
      ]
     },
     "metadata": {},
     "output_type": "display_data"
    },
    {
     "name": "stdout",
     "output_type": "stream",
     "text": [
      "\n",
      "Epoch: 15\n"
     ]
    },
    {
     "data": {
      "application/vnd.jupyter.widget-view+json": {
       "model_id": "758159e242b94d68836c914a5912c68b",
       "version_major": 2,
       "version_minor": 0
      },
      "text/plain": [
       "HBox(children=(FloatProgress(value=0.0, max=32.0), HTML(value='')))"
      ]
     },
     "metadata": {},
     "output_type": "display_data"
    },
    {
     "name": "stdout",
     "output_type": "stream",
     "text": [
      "\n",
      "Epoch: 16\n"
     ]
    },
    {
     "data": {
      "application/vnd.jupyter.widget-view+json": {
       "model_id": "b2354ed9d3084c17bc5fbd7c35f1f291",
       "version_major": 2,
       "version_minor": 0
      },
      "text/plain": [
       "HBox(children=(FloatProgress(value=0.0, max=32.0), HTML(value='')))"
      ]
     },
     "metadata": {},
     "output_type": "display_data"
    },
    {
     "name": "stdout",
     "output_type": "stream",
     "text": [
      "\n",
      "Epoch: 17\n"
     ]
    },
    {
     "data": {
      "application/vnd.jupyter.widget-view+json": {
       "model_id": "3a342376398b40dfaf4e4570c9803b1f",
       "version_major": 2,
       "version_minor": 0
      },
      "text/plain": [
       "HBox(children=(FloatProgress(value=0.0, max=32.0), HTML(value='')))"
      ]
     },
     "metadata": {},
     "output_type": "display_data"
    },
    {
     "name": "stdout",
     "output_type": "stream",
     "text": [
      "\n",
      "Epoch: 18\n"
     ]
    },
    {
     "data": {
      "application/vnd.jupyter.widget-view+json": {
       "model_id": "b0f6b81835784f62b6e65cd977a646e7",
       "version_major": 2,
       "version_minor": 0
      },
      "text/plain": [
       "HBox(children=(FloatProgress(value=0.0, max=32.0), HTML(value='')))"
      ]
     },
     "metadata": {},
     "output_type": "display_data"
    },
    {
     "name": "stdout",
     "output_type": "stream",
     "text": [
      "\n",
      "Epoch: 19\n"
     ]
    },
    {
     "data": {
      "application/vnd.jupyter.widget-view+json": {
       "model_id": "9281b776c9264e61bfdebc2f45a43b28",
       "version_major": 2,
       "version_minor": 0
      },
      "text/plain": [
       "HBox(children=(FloatProgress(value=0.0, max=32.0), HTML(value='')))"
      ]
     },
     "metadata": {},
     "output_type": "display_data"
    },
    {
     "name": "stdout",
     "output_type": "stream",
     "text": [
      "\n"
     ]
    }
   ],
   "source": [
    "EPOCHS = 20\n",
    "BATCH_SIZE = 5\n",
    "POINTCLOUD_SIZE = 1600\n",
    "\n",
    "data_path = 'C:/Users/Kasper/Desktop/Compressed/PointCloudv1/PointCloudv1'\n",
    "writer = SummaryWriter()\n",
    "model = PointNetCls().to(device)\n",
    "\n",
    "n_pointclouds = number_of_pointclouds('Training',data_path)\n",
    "\n",
    "optimizer = torch.optim.Adam(model.parameters(),lr=0.00001,betas=(0.9, 0.999)) #MOMENTUM 0.9\n",
    "loss_function = nn.MSELoss()\n",
    "\n",
    "for epoch in range(EPOCHS):\n",
    "    for i in tqdm(range(0,n_pointclouds,BATCH_SIZE)):\n",
    "        train_X, train_y = get_batch(i,BATCH_SIZE,data_path,'Training')\n",
    "        #val_X, val_y = get_batch(i,BATCH_SIZE,data_path,'Validation')\n",
    "        val_X, val_y = get_validation_data(data_path)\n",
    "        \n",
    "        train_loss = train2(model,train_X,train_y,loss_function,optimizer)\n",
    "        val_loss = validate(model,val_X,val_y,loss_function)\n",
    "    \n",
    "    print(f'Epoch: {epoch} | Train Loss: {train_loss} | Validation Loss: {validation_loss} ')\n",
    "    writer.add_scalar('Loss/train', train_loss, epoch)\n",
    "    writer.add_scalar('Loss/validation', val_loss, epoch)\n"
   ]
  },
  {
   "cell_type": "code",
   "execution_count": null,
   "metadata": {},
   "outputs": [],
   "source": [
    "EPOCHS = 50\n",
    "BATCH_SIZE = 15\n",
    "\n",
    "writer = SummaryWriter()\n",
    "\n",
    "\n",
    "def train(net,data_path):\n",
    "    loss_list = []\n",
    "    optimizer = torch.optim.Adam(net.parameters(),lr=0.00001,betas=(0.9, 0.999)) #MOMENTUM 0.9\n",
    "    loss_function = nn.MSELoss()\n",
    "    \n",
    "    for epoch in range(EPOCHS):\n",
    "        for i in tqdm(range(0,number_of_pointclouds('Training',data_path),BATCH_SIZE)):\n",
    "            batch_X, batch_y = get_batch(i,BATCH_SIZE,data_path)\n",
    "\n",
    "            net.zero_grad()\n",
    "            \n",
    "            outputs = net(batch_X)  \n",
    "            loss = loss_function(outputs,batch_y)\n",
    "            \n",
    "            loss.backward()\n",
    "            loss_list.append(loss)\n",
    "            \n",
    "            optimizer.step()\n",
    "    \n",
    "        #writer.add_graph(net,outputs)\n",
    "        writer.add_scalar('Loss/train', loss, epoch)\n",
    "        #print(f'Epoch: {epoch}. Loss {loss}.')\n",
    "    \n",
    "    plt.plot(loss_list)\n",
    "            \n",
    "            "
   ]
  },
  {
   "cell_type": "code",
   "execution_count": null,
   "metadata": {},
   "outputs": [],
   "source": [
    "data_path = 'C:/Users/Kasper/Desktop/Compressed/PointCloudv1'\n",
    "pointnet_cls = PointNetCls().to(device)\n",
    "train(pointnet_cls,data_path)"
   ]
  },
  {
   "cell_type": "markdown",
   "metadata": {},
   "source": [
    "# Testing"
   ]
  },
  {
   "cell_type": "code",
   "execution_count": null,
   "metadata": {},
   "outputs": [],
   "source": [
    "def get_testing_data(data_path):\n",
    "    pointcloud_list = []\n",
    "    label_list = []\n",
    "    \n",
    "    with h5py.File(f'{data_path}/shuffled_pointcloud2_hdf5.h5','r') as hdf:\n",
    "\n",
    "        for pointcloud in list(hdf.get('Validation/PointClouds')):\n",
    "            array = np.array(hdf.get(f'Validation/PointClouds/{pointcloud}'))\n",
    "            pointcloud_list.append(array)\n",
    "\n",
    "        for label in list(hdf.get('Validation/Labels')):\n",
    "            array = np.array(hdf.get(f'Validation/Labels/{label}'))\n",
    "            label_list.append(array)\n",
    "     \n",
    "    pointcloud_tensors = torch.Tensor(pointcloud_list).view(-1,3,POINTCLOUD_SIZE).to(device)\n",
    "    label_tensors = torch.Tensor(label_list).to(device)\n",
    "\n",
    "    return pointcloud_tensors, label_tensors"
   ]
  },
  {
   "cell_type": "code",
   "execution_count": null,
   "metadata": {},
   "outputs": [],
   "source": [
    "def predict(net,data_path):\n",
    "    net.eval()\n",
    "    correct = 0\n",
    "    total = 0\n",
    "    with torch.no_grad():\n",
    "        for i in tqdm(range(number_of_pointclouds('Testing',data_path))):\n",
    "            test_X,test_y = get_testing_data(data_path)\n",
    "            true_class = torch.argmax(test_y[i]).to(device)\n",
    "            net_out = net(test_X[i].view(-1,3,POINTCLOUD_SIZE)).to(device)[0]\n",
    "            predicted_class = torch.argmax(net_out)\n",
    "            print(f'Real Class: {true_class}')\n",
    "            print(f'Classification: {net_out}')\n",
    "            print(f'Predicted Class: {predicted_class} \\n')\n",
    "            \n",
    "\n",
    "            if predicted_class == true_class:\n",
    "                correct += 1\n",
    "            total += 1\n",
    "    print(\"Accuracy: \",round(correct/total,3))\n",
    "    \n",
    "predict(pointnet_cls,data_path)"
   ]
  },
  {
   "cell_type": "code",
   "execution_count": null,
   "metadata": {},
   "outputs": [],
   "source": []
  },
  {
   "cell_type": "code",
   "execution_count": null,
   "metadata": {},
   "outputs": [],
   "source": []
  }
 ],
 "metadata": {
  "kernelspec": {
   "display_name": "Python 3",
   "language": "python",
   "name": "python3"
  },
  "language_info": {
   "codemirror_mode": {
    "name": "ipython",
    "version": 3
   },
   "file_extension": ".py",
   "mimetype": "text/x-python",
   "name": "python",
   "nbconvert_exporter": "python",
   "pygments_lexer": "ipython3",
   "version": "3.6.9"
  }
 },
 "nbformat": 4,
 "nbformat_minor": 4
}
